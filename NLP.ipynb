{
 "cells": [
  {
   "cell_type": "markdown",
   "metadata": {},
   "source": [
    "Natural Language Processing, or NLP for short\n",
    "\n",
    " focuses on analyzing text and speech data. \n",
    "\n",
    " Application:\n",
    " - Sentiment Analysis\n",
    "    - The food was amaing : happy\n",
    "    - The room was dirty: not happy\n",
    " - Dictation\n",
    " - Translation\n",
    " - Voice Assistants\n",
    " - Smart speakers\n",
    " - Smart home devices"
   ]
  },
  {
   "cell_type": "markdown",
   "metadata": {},
   "source": [
    "Otline\n",
    "- 1\n",
    "    - Tokenization: Numerical format to input to NN\n",
    "    - Embidings: \n",
    "- 2\n",
    "    - RNN\n",
    "    - Text Generaation"
   ]
  },
  {
   "cell_type": "code",
   "execution_count": null,
   "metadata": {},
   "outputs": [],
   "source": []
  },
  {
   "cell_type": "markdown",
   "metadata": {},
   "source": [
    "Tokentizatoin\n",
    "- Tokinize an input\n",
    "- Pad sequenceis\n",
    "- Out of vocabulary words\n",
    "- Use on Read Datasets"
   ]
  },
  {
   "cell_type": "markdown",
   "metadata": {},
   "source": [
    "Embidings\n",
    "- Transform into embidings\n",
    "- Develop a sentimnet model\n",
    "- visualize embiding spaces\n",
    "- tweak"
   ]
  },
  {
   "cell_type": "markdown",
   "metadata": {},
   "source": [
    "RNNs\n",
    "\n",
    "- Recurrent: recurres often or repeateadly\n",
    "- Temporal Dependices: dependices over the time.\n",
    "- For example predicting the word\n",
    "- Words that affect each other can be close together\n",
    "\n",
    "- The vanishing gradient problem\n",
    "\n",
    "- Memory (state): referring to the output of the hidden layer that will be fed to the input layer."
   ]
  }
 ],
 "metadata": {
  "language_info": {
   "name": "python"
  }
 },
 "nbformat": 4,
 "nbformat_minor": 2
}
