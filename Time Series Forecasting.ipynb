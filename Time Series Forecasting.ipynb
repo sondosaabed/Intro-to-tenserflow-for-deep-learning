{
 "cells": [
  {
   "cell_type": "markdown",
   "metadata": {},
   "source": [
    "<b>Time Series</b>\n",
    "\n",
    "an ordered sequence of values usually equally spaced over timeevery year, day, second or even every few microseconds like in the audio clip.\n",
    "\n",
    "- Analyze anything that evolves over time."
   ]
  },
  {
   "cell_type": "markdown",
   "metadata": {},
   "source": [
    "Types\n",
    "\n",
    "- Univariate: a singlie value at each time-step\n",
    "![Alt text](explanation_images/univariate.png)"
   ]
  },
  {
   "cell_type": "markdown",
   "metadata": {},
   "source": [
    "- Multivariate: multiple values at each time-step\n",
    "![Alt text](explanation_images/multivariate.png)\n"
   ]
  },
  {
   "cell_type": "markdown",
   "metadata": {},
   "source": [
    "<b>Applications:</b>\n",
    "\n",
    "- Imputaion \n",
    "- Forcasting\n",
    "- Anomoly Detection"
   ]
  },
  {
   "cell_type": "markdown",
   "metadata": {},
   "source": [
    "<b>Common Patterns</b>"
   ]
  },
  {
   "cell_type": "markdown",
   "metadata": {},
   "source": [
    "- Trend: Drift Up or down\n",
    "![Alt text](explanation_images/trend.png)"
   ]
  },
  {
   "cell_type": "markdown",
   "metadata": {},
   "source": [
    "- Seasonality: patterns repeats at predictable seasons\n",
    "    - peaks\n",
    "    - troughs\n",
    "\n",
    "![Alt text](explanation_images/Seasonality.png)\n"
   ]
  },
  {
   "cell_type": "markdown",
   "metadata": {},
   "source": [
    "- Trend & Seasonality\n",
    "![Alt text](explanation_images/trend&seas.png)"
   ]
  },
  {
   "cell_type": "markdown",
   "metadata": {},
   "source": [
    "- White noise: Completely unpredictable, random numbers\n",
    "![Alt text](explanation_images/whitenoise.png)"
   ]
  },
  {
   "cell_type": "markdown",
   "metadata": {},
   "source": [
    "- Trend & Seasonality & Noise: thats realistic\n",
    "\n",
    "![Alt text](explanation_images/allpatterns.png)\n"
   ]
  }
 ],
 "metadata": {
  "language_info": {
   "name": "python"
  },
  "orig_nbformat": 4
 },
 "nbformat": 4,
 "nbformat_minor": 2
}
