{
 "cells": [
  {
   "cell_type": "markdown",
   "metadata": {},
   "source": [
    "<b>Time Series</b>\n",
    "\n",
    "an ordered sequence of values usually equally spaced over timeevery year, day, second or even every few microseconds like in the audio clip.\n",
    "\n",
    "- Analyze anything that evolves over time."
   ]
  },
  {
   "cell_type": "code",
   "execution_count": 1,
   "metadata": {},
   "outputs": [],
   "source": [
    "import numpy as np\n",
    "import matplotlib.pyplot as plt"
   ]
  },
  {
   "cell_type": "code",
   "execution_count": null,
   "metadata": {},
   "outputs": [],
   "source": [
    "def plot_series(time, series, format='-', start=0, end=None, label=None):\n",
    "    plt.plot(time[start:end], series[start:end], format,label=label)\n",
    "    plt.xlabel(\"Time\")\n",
    "    plt.ylabel(\"Value\")\n",
    "    if label:\n",
    "        plt.legend(fontsize=14)\n",
    "    plt.grid(True)"
   ]
  },
  {
   "cell_type": "markdown",
   "metadata": {},
   "source": [
    "Types\n",
    "\n",
    "- Univariate: a singlie value at each time-step\n",
    "![Alt text](explanation_images/univariate.png)"
   ]
  },
  {
   "cell_type": "markdown",
   "metadata": {},
   "source": [
    "- Multivariate: multiple values at each time-step\n",
    "![Alt text](explanation_images/multivariate.png)\n"
   ]
  },
  {
   "cell_type": "markdown",
   "metadata": {},
   "source": [
    "<b>Applications:</b>\n",
    "\n",
    "- Imputaion \n",
    "- Forcasting\n",
    "- Anomoly Detection"
   ]
  },
  {
   "cell_type": "markdown",
   "metadata": {},
   "source": [
    "<b>Common Patterns</b>"
   ]
  },
  {
   "cell_type": "markdown",
   "metadata": {},
   "source": [
    "- Trend: Drift Up or down\n",
    "![Alt text](explanation_images/trend.png)"
   ]
  },
  {
   "cell_type": "markdown",
   "metadata": {},
   "source": [
    "- Seasonality: patterns repeats at predictable seasons\n",
    "    - peaks\n",
    "    - troughs\n",
    "\n",
    "![Alt text](explanation_images/Seasonality.png)\n"
   ]
  },
  {
   "cell_type": "markdown",
   "metadata": {},
   "source": [
    "- Trend & Seasonality\n",
    "![Alt text](explanation_images/trend&seas.png)"
   ]
  },
  {
   "cell_type": "markdown",
   "metadata": {},
   "source": [
    "- White noise: Completely unpredictable, random numbers\n",
    "![Alt text](explanation_images/whitenoise.png)"
   ]
  },
  {
   "cell_type": "markdown",
   "metadata": {},
   "source": [
    "- Trend & Seasonality & Noise: thats realistic\n",
    "\n",
    "![Alt text](explanation_images/allpatterns.png)\n"
   ]
  }
 ],
 "metadata": {
  "kernelspec": {
   "display_name": "Python 3",
   "language": "python",
   "name": "python3"
  },
  "language_info": {
   "codemirror_mode": {
    "name": "ipython",
    "version": 3
   },
   "file_extension": ".py",
   "mimetype": "text/x-python",
   "name": "python",
   "nbconvert_exporter": "python",
   "pygments_lexer": "ipython3",
   "version": "3.11.0"
  },
  "orig_nbformat": 4
 },
 "nbformat": 4,
 "nbformat_minor": 2
}
