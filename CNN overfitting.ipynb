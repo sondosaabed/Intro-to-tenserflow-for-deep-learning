{
 "cells": [
  {
   "cell_type": "markdown",
   "metadata": {},
   "source": [
    "<b>Resizing: </b>\n",
    "\n",
    "When working with images of different sizes, you must resize all the images to the same size so that they can be fed into a CNN."
   ]
  },
  {
   "cell_type": "markdown",
   "metadata": {},
   "source": [
    "- when the image is colored and have diffrent sizes, it will be diffrent.\n",
    "- Flatteing the image won't be enough becaue it will have diffrent 1D arrays.\n",
    "- This is why we perform image flattening. \n",
    "- When it's colored 3 channels are expected. Imagine the computations"
   ]
  },
  {
   "cell_type": "markdown",
   "metadata": {},
   "source": [
    "Convulution\n",
    "\n",
    "by performing element-wise multiplication of the convolutional filter (kernel) and a section of the input array. "
   ]
  },
  {
   "cell_type": "markdown",
   "metadata": {},
   "source": [
    "Max pooling\n",
    "\n",
    "by selecting the max value in each window."
   ]
  },
  {
   "cell_type": "markdown",
   "metadata": {},
   "source": [
    "<b>Methods to Prevent Overfitting:</b>"
   ]
  },
  {
   "cell_type": "markdown",
   "metadata": {},
   "source": [
    "- <b>Early Stopping:</b> In this method, we track the loss on the validation set during the training phase and use it to determine when to stop training such that the model is accurate but not overfitting.\n",
    "    - Validation sets can be used to perform Early Stopping to prevent overfitting and can also be used to help us compare different models and choose the best one."
   ]
  },
  {
   "cell_type": "markdown",
   "metadata": {},
   "source": [
    "- <b>Image Augmentation:</b> Artificially boosting the number of images in our training set by applying random image transformations to the existing images in the training set."
   ]
  },
  {
   "cell_type": "markdown",
   "metadata": {},
   "source": [
    "- <b>Dropout:</b> Removing a random selection of a fixed number of neurons in a neural network during training."
   ]
  }
 ],
 "metadata": {
  "language_info": {
   "name": "python"
  },
  "orig_nbformat": 4
 },
 "nbformat": 4,
 "nbformat_minor": 2
}
