{
 "cells": [
  {
   "cell_type": "markdown",
   "metadata": {},
   "source": [
    "<b>RNN</b>\n",
    "\n",
    "- Very powerful \n",
    "- Requires Data\n",
    "- Tricky to train (somewhat unstable gradiet)"
   ]
  },
  {
   "cell_type": "markdown",
   "metadata": {},
   "source": [
    "- Are Neural networks that contains a recurrent layer\n",
    "- can sequencially process a sequence of input\n",
    "- Three dimensional input\n",
    "![Alt text](explanation_images/rnns.png)"
   ]
  },
  {
   "cell_type": "markdown",
   "metadata": {},
   "source": [
    "- Single memory cell(Small NN) used repeatdly to compute the outputs.\n",
    "- Single memory cell could be:\n",
    "    - Simple Dense Layer\n",
    "    - Complex: LSTM cell, GRU cell\n",
    " \n",
    "Only single cell, in the diagram it's the same cell\n",
    "\n",
    "- X0: input\n",
    "- Y0 hat: current output\n",
    "- H0: state or context factor, it's fed to the memory cell \n",
    "\n",
    "![Alt text](explanation_images/singlecCell.png)"
   ]
  },
  {
   "cell_type": "markdown",
   "metadata": {},
   "source": [
    "- 4*3 becaue the batch size is 4, the # of steps (30) and the # of uits is 3\n",
    "- H0 is just a copy of Y0... H1 is a copy of Y1\n",
    "\n",
    "![Alt text](image.png)"
   ]
  },
  {
   "cell_type": "markdown",
   "metadata": {},
   "source": [
    "- this is ignorong all the output except the last one\n",
    "- will handle any sequences of any length  \n",
    "\n",
    "![Alt text](image-1.png)"
   ]
  }
 ],
 "metadata": {
  "language_info": {
   "name": "python"
  }
 },
 "nbformat": 4,
 "nbformat_minor": 2
}
