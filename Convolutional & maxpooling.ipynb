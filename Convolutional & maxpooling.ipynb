{
 "cells": [
  {
   "cell_type": "markdown",
   "metadata": {},
   "source": [
    "<b>CNNs</b>\n",
    "\n",
    "- Proven to reach even higher accuracies"
   ]
  },
  {
   "cell_type": "markdown",
   "metadata": {},
   "source": [
    "<b>Terms:</b>\n",
    "\n",
    "- <b>CNNs:</b> Convolutional neural network. That is, a network which has at least one convolutional layer. A typical CNN also includes other types of layers, such as pooling layers and dense layers.\n",
    "- <b>Convolution:</b> The process of applying a kernel (filter) to an image\n",
    "- <b>Kernel / filter:</b> A matrix which is smaller than the input, used to transform the input into chunks\n",
    "- <b>Padding:</b> Adding pixels of some value, usually 0, around the input image\n",
    "- <b>Pooling:</b> The process of reducing the size of an image through downsampling.There are several types of pooling layers. For example, average pooling converts many values into a single value by taking the average. However, maxpooling is the most common.\n",
    "- <b>Maxpooling:</b> A pooling process in which many values are converted into a single value by taking the maximum value from among them.\n",
    "- <b>Stride:</b> the number of pixels to slide the kernel (filter) across the image.\n",
    "- <b>Downsampling:</b> The act of reducing the size of an image"
   ]
  },
  {
   "cell_type": "markdown",
   "metadata": {},
   "source": [
    "Two main Conceptss in CNN:\n",
    "- <b>Convolutions:</b> A convolution is the process of applying a filter (“kernel”) to an image.\n",
    "- <b>Max pooling:</b> Max pooling is the process of reducing the size of the image through downsampling."
   ]
  },
  {
   "cell_type": "markdown",
   "metadata": {},
   "source": [
    "<b>Convolutions</b>\n",
    "- To create another grid of number called the kernel or filter.\n",
    "- Then we can scan this kernel across the image"
   ]
  },
  {
   "cell_type": "markdown",
   "metadata": {},
   "source": [
    "![Alt text](explanation_images/conv2.png)"
   ]
  },
  {
   "cell_type": "markdown",
   "metadata": {},
   "source": [
    "![Alt text](explanation_images/conv1.png)"
   ]
  },
  {
   "cell_type": "markdown",
   "metadata": {},
   "source": [
    "<b>Maxpooling</b>\n",
    "\n",
    "- The max pixel\n",
    "- The stride\n",
    "\n",
    "We have downsampled the original image"
   ]
  },
  {
   "cell_type": "markdown",
   "metadata": {},
   "source": [
    "![Alt text](explanation_images/maxpoolingg1.png)"
   ]
  },
  {
   "cell_type": "markdown",
   "metadata": {},
   "source": [
    "![Alt text](explanation_images/maxppoling.png)"
   ]
  },
  {
   "cell_type": "markdown",
   "metadata": {},
   "source": [
    "<b>Comprehensive CNN</b>"
   ]
  },
  {
   "cell_type": "markdown",
   "metadata": {},
   "source": [
    "![Alt text](explanation_images\\comprehensive_cnn.png)"
   ]
  },
  {
   "cell_type": "markdown",
   "metadata": {},
   "source": [
    "<b>Image resizing</b>\n",
    "\n",
    "- when the image is colored and have diffrent sizes, it will be diffrent.\n",
    "- Flatteing the image won't be enough becaue it will have diffrent 1D arrays.\n",
    "- This is why we perform image flattening. \n",
    "- When it's colored 3 channels are expected."
   ]
  }
 ],
 "metadata": {
  "language_info": {
   "name": "python"
  },
  "orig_nbformat": 4
 },
 "nbformat": 4,
 "nbformat_minor": 2
}
