{
 "cells": [
  {
   "cell_type": "markdown",
   "metadata": {},
   "source": [
    "<b>Cov nets </b>\n",
    "\n",
    "very handy with sequences\n",
    "\n",
    "has no memory"
   ]
  },
  {
   "cell_type": "markdown",
   "metadata": {},
   "source": [
    "<b>Hyper parameters:</b>\n",
    "\n",
    "<b>1- Padding</b>\n",
    "\n",
    "- valid: deaulft no padding\n",
    "- same: padding of left and right as the same amount of the sequence.\n",
    "- causal: padded on the left (in the past)\n",
    "\n",
    "<b>2- stride</b>\n",
    "\n",
    "- 1 => deafult\n",
    "\n",
    "<b>3- Kernels</b>\n",
    "\n",
    "- filters: multivaraiate\n",
    "- if it's high it will probably overfit "
   ]
  },
  {
   "cell_type": "markdown",
   "metadata": {},
   "source": [
    "<b>WaveNet Architechture</b>\n",
    "\n",
    "- Dilation rate of two skips every 2\n",
    "- Dilation rate of 4 skips 3 out of 4\n",
    "\n",
    "...\n",
    "\n",
    "\n",
    "![Alt text](explanation_images/wavenetArch.png)"
   ]
  }
 ],
 "metadata": {
  "language_info": {
   "name": "python"
  }
 },
 "nbformat": 4,
 "nbformat_minor": 2
}
