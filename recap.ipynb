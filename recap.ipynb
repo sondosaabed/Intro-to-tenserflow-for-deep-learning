{
 "cells": [
  {
   "cell_type": "markdown",
   "metadata": {},
   "source": [
    "<b>Terms</b>\n",
    "\n",
    "- <b>Layer:</b> A collection of nodes connected together within a neural network.\n",
    "- <b>Dense and Fully Connected (FC):</b> Each node in one layer is connected to each node in the previous layer.\n",
    "- <b>Weights and biases:</b> The internal variables of model\n",
    "- <b>Loss:</b> The discrepancy between the desired output and the actual output\n",
    "- <b>MSE</b>: Mean squared error, a type of loss function that counts a small number of large discrepancies as worse than a large number of small ones.\n",
    "- <b>Gradient Descent</b>: An algorithm that changes the internal variables a bit at a time to gradually reduce the loss function.\n",
    "- <b>Optimizer</b>: A specific implementation of the gradient descent algorithm. (There are many algorithms for this. In this course we will only use the “Adam” Optimizer, which stands for ADAptive with Momentum. It is considered the best-practice optimizer.)\n",
    "- <b>Learning rate:</b> The “step size” for loss improvement during gradient descent.\n",
    "- <b>Batch:</b> The set of examples used during training of the neural network\n",
    "- <b>Epoch</b>: A full pass over the entire training dataset\n",
    "- <b>Forward pass:</b> The computation of output values from input\n",
    "- <b>Backward pass (backpropagation)</b>: The calculation of internal variable adjustments according to the optimizer algorithm, starting from the output layer and working back through each layer to the input."
   ]
  },
  {
   "cell_type": "markdown",
   "metadata": {},
   "source": [
    "<b>The training process</b>\n",
    "\n",
    "- Tuning the internal variables of the networks to the best possible values, so that they can map the input to the output.\n",
    "- Through optimization process called <b>Gradient Descent</b> uses Numeric Analysis to find the best possible values to the internal variables of the model.\n",
    "- gradient descent iteratively adjusts parameters, nudging them in the correct direction a bit at a time until they reach the best values.\n",
    "- In this case “best values” means that nudging them any more would make the model perform worse. "
   ]
  },
  {
   "cell_type": "markdown",
   "metadata": {},
   "source": [
    "<b>loss function</b>\n",
    "\n",
    "The function that measures how good or bad the model is during each iteration is called the “loss function”, and the goal of each nudge is to “minimize the loss function.”"
   ]
  },
  {
   "cell_type": "markdown",
   "metadata": {},
   "source": [
    "The training process starts with\n",
    "\n",
    "- <b>forward pass</b>: the input data is fed to the neural network\n",
    "- Then the model applies its internal math on the input and internal variables to predict an answer"
   ]
  },
  {
   "cell_type": "markdown",
   "metadata": {},
   "source": [
    "![Alt text](forward_pass.png)"
   ]
  },
  {
   "cell_type": "markdown",
   "metadata": {},
   "source": [
    "- Once a value is predicted, the difference between that predicted value and the correct value is calculated.\n",
    "- This difference is called the loss, and it's a measure of how well the model performed the mapping task. \n",
    "- The value of the loss is calculated using a loss function, which we specified with the loss parameter when calling model.compile()"
   ]
  },
  {
   "cell_type": "markdown",
   "metadata": {},
   "source": [
    "After the loss is calculated, the internal variables (weights and biases) of all the layers of the neural network are adjusted, so as to minimize this loss — that is, to make the output value closer to the correct value\n",
    "\n",
    "![Alt text](backpropagtion.png)"
   ]
  },
  {
   "cell_type": "markdown",
   "metadata": {},
   "source": [
    "This optimization process is called <b>Gradient Descent.</b> \n",
    "\n",
    "The specific algorithm used to calculate the new value of each internal variable is specified by the optimizer parameter when calling model.compile(...). \n",
    "\n",
    "In this example we used the Adam optimizer."
   ]
  },
  {
   "cell_type": "markdown",
   "metadata": {},
   "source": [
    "<b>Dense Layers</b>\n",
    "\n",
    "fully connected to the previous layers\n",
    "\n",
    "![Alt text](dense_layer.png)\n"
   ]
  }
 ],
 "metadata": {
  "language_info": {
   "name": "python"
  },
  "orig_nbformat": 4
 },
 "nbformat": 4,
 "nbformat_minor": 2
}
